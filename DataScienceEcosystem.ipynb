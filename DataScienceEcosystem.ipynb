{
 "cells": [
  {
   "cell_type": "markdown",
   "id": "c4b68608",
   "metadata": {},
   "source": [
    "# Data Science tools and ecosystem\n",
    "in this notebook, Data Science and ecosystem is summarized\n",
    "some popular languages are:\n",
    "1. Python\n",
    "2. R\n",
    "Some popular used data science libraries are:\n",
    "1. TenserFlow\n",
    "2. Pytorch\n",
    "|Data Science Tools|\n",
    "|------------------|\n",
    "|Jupyter|\n",
    "|Anacoda|\n",
    "\n",
    "\n",
    "\n",
    " "
   ]
  },
  {
   "cell_type": "code",
   "execution_count": null,
   "id": "e945d3eb",
   "metadata": {},
   "outputs": [],
   "source": [
    "### Below are few example of evalauting arthimatic Expression"
   ]
  },
  {
   "cell_type": "code",
   "execution_count": 1,
   "id": "9f1bb424",
   "metadata": {},
   "outputs": [
    {
     "data": {
      "text/plain": [
       "17"
      ]
     },
     "execution_count": 1,
     "metadata": {},
     "output_type": "execute_result"
    }
   ],
   "source": [
    "(3*4)+5\n",
    "#this is simple arithematic expression multiply then addition\n"
   ]
  },
  {
   "cell_type": "markdown",
   "id": "3ab52e7e",
   "metadata": {},
   "source": []
  },
  {
   "cell_type": "code",
   "execution_count": 2,
   "id": "9e35802b",
   "metadata": {},
   "outputs": [
    {
     "data": {
      "text/plain": [
       "3.3333333333333335"
      ]
     },
     "execution_count": 2,
     "metadata": {},
     "output_type": "execute_result"
    }
   ],
   "source": [
    "#convert 200 minutes to hours\n",
    "200/60"
   ]
  },
  {
   "cell_type": "markdown",
   "id": "1525087c",
   "metadata": {},
   "source": [
    "# Objectives\n",
    "\n",
    "( - ) Python\n",
    "( - ) R\n",
    "( - ) Pytorch\n",
    "( - ) TenserFlow"
   ]
  },
  {
   "cell_type": "markdown",
   "id": "465d62d9",
   "metadata": {},
   "source": [
    "## Lakshmi Holla\n",
    "Fakiha Balouch"
   ]
  }
 ],
 "metadata": {
  "kernelspec": {
   "display_name": "Python 3 (ipykernel)",
   "language": "python",
   "name": "python3"
  },
  "language_info": {
   "codemirror_mode": {
    "name": "ipython",
    "version": 3
   },
   "file_extension": ".py",
   "mimetype": "text/x-python",
   "name": "python",
   "nbconvert_exporter": "python",
   "pygments_lexer": "ipython3",
   "version": "3.10.9"
  }
 },
 "nbformat": 4,
 "nbformat_minor": 5
}
